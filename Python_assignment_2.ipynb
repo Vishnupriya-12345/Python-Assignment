{
  "nbformat": 4,
  "nbformat_minor": 0,
  "metadata": {
    "colab": {
      "name": "Python assignment 2",
      "provenance": [],
      "collapsed_sections": [],
      "authorship_tag": "ABX9TyOU35TTecPZ7UUwD/u7nq7I",
      "include_colab_link": true
    },
    "kernelspec": {
      "name": "python3",
      "display_name": "Python 3"
    }
  },
  "cells": [
    {
      "cell_type": "markdown",
      "metadata": {
        "id": "view-in-github",
        "colab_type": "text"
      },
      "source": [
        "<a href=\"https://colab.research.google.com/github/Vishnupriya-12345/Python-Assignment/blob/master/Python_assignment_2.ipynb\" target=\"_parent\"><img src=\"https://colab.research.google.com/assets/colab-badge.svg\" alt=\"Open In Colab\"/></a>"
      ]
    },
    {
      "cell_type": "code",
      "metadata": {
        "id": "RqNC2cGBpY53",
        "colab_type": "code",
        "colab": {
          "base_uri": "https://localhost:8080/",
          "height": 51
        },
        "outputId": "f5b38967-75a9-459b-f77f-d760a15b2711"
      },
      "source": [
        "#question 1\n",
        "year=int(input(\"Enter the year \"))\n",
        "if year%12==0:\n",
        "   print(\"monkey\")\n",
        "elif year%12==1:\n",
        "   print(\"rooster\")\n",
        "elif year%12==2:\n",
        "   print(\"dog\")\n",
        "elif year%12==3:\n",
        "   print(\"pig\")\n",
        "elif year%12==4:\n",
        "   print(\"rat\")\n",
        "elif year%12==5:\n",
        "   print(\"ox\")\n",
        "elif year%12==6:\n",
        "   print(\"tigger\")\n",
        "elif year%12==7:\n",
        "   print(\"rabbit\")\n",
        "elif year%12==8:\n",
        "   print(\"dragon\")\n",
        "elif year%12==9:\n",
        "   print(\"snake\")\n",
        "elif year%12==10:\n",
        "   print(\"horse\")\n",
        "else:\n",
        "   print(\"sheep\")"
      ],
      "execution_count": null,
      "outputs": [
        {
          "output_type": "stream",
          "text": [
            "Enter the year 13\n",
            "rooster\n"
          ],
          "name": "stdout"
        }
      ]
    },
    {
      "cell_type": "code",
      "metadata": {
        "id": "hU1s_UNqzANe",
        "colab_type": "code",
        "colab": {
          "base_uri": "https://localhost:8080/",
          "height": 68
        },
        "outputId": "19efc84c-7789-40ba-a6a8-e154996c338c"
      },
      "source": [
        "#question 2\n",
        "d=int(input(\"Distance to be travel \"))\n",
        "w=int(input(\"Weight of goods : \"))\n",
        "if d>=500 :\n",
        "  if w>=100 :\n",
        "     d=d*5\n",
        "     print(\"Amount to be charged : \",d)\n",
        "  elif w>=10 and w<100 :\n",
        "     d=d*6\n",
        "     print(\"Amount to be charged : \",d)\n",
        "  elif w<10 :\n",
        "     d=d*7\n",
        "     print(\"Amount to be charged : \",d)\n",
        "elif d<500 :\n",
        "  if w>=100 :\n",
        "     d=d*8\n",
        "     print(\"Amount to be charged : \",d)\n",
        "  elif w<100 :\n",
        "     d=d*5\n",
        "     print(\"Amount to be charged : \",d)\n",
        "else :\n",
        " print(\"invalid\")"
      ],
      "execution_count": null,
      "outputs": [
        {
          "output_type": "stream",
          "text": [
            "Distance to be travel 520\n",
            "Weight of goods : 50\n",
            "Amount to be charged :  3120\n"
          ],
          "name": "stdout"
        }
      ]
    },
    {
      "cell_type": "code",
      "metadata": {
        "id": "h1M1RjC9lkw0",
        "colab_type": "code",
        "colab": {
          "base_uri": "https://localhost:8080/",
          "height": 137
        },
        "outputId": "563d88f3-4c0e-4e41-e06c-186a88a25ad7"
      },
      "source": [
        "#question 3\n",
        "print(\"Stall=625\")\n",
        "print(\"Circle=750\")\n",
        "print(\"Upper_class=850\")\n",
        "print(\"Box=1000\")\n",
        "T=input(\"Type of seat \")\n",
        "P=input(\"Payment mode \")\n",
        "if T == \"Stall\":\n",
        "  if P == 'Cash':\n",
        "    print(\"Cost of  ticket : \",(625-((625*10)/100)))\n",
        "  elif P == 'Credit':\n",
        "    print(\"Cost of ticket : \",(625-((625*10)/100)))\n",
        "elif T == \"Circle\":\n",
        "  if P == 'Cash':\n",
        "    print(\"Cost of ticket : \",(750-((750*10)/100)))\n",
        "  elif P == 'Credit':\n",
        "    print(\"Cost of ticket : \",(750-((750*10)/100)))\n",
        "elif T == \"Upper_class\":\n",
        "  if P == 'Cash':\n",
        "    print(\"Cost of ticket : \",(850-((850*10)/100)))\n",
        "  elif P == 'Credit':\n",
        "    print(\"Cost of ticket : \",(850-((850*10)/100)))\n",
        "elif T == \"Box\":\n",
        "  if P == 'Cash':\n",
        "    print(\"Cost of ticket : \",(1000-((1000*10)/100)))\n",
        "  elif P == 'Credit':\n",
        "    print(\"Cost of ticket : \",(1000-((1000*10)/100)))\n",
        "else:\n",
        "  print(\"invalid\")"
      ],
      "execution_count": null,
      "outputs": [
        {
          "output_type": "stream",
          "text": [
            "Stall=625\n",
            "Circle=750\n",
            "Upper_class=850\n",
            "Box=1000\n",
            "Type of seat Circle\n",
            "Payment mode Cash\n",
            "Cost of ticket :  675.0\n"
          ],
          "name": "stdout"
        }
      ]
    },
    {
      "cell_type": "code",
      "metadata": {
        "id": "Xe-NikuHKCiC",
        "colab_type": "code",
        "colab": {
          "base_uri": "https://localhost:8080/",
          "height": 106
        },
        "outputId": "5dbb97cf-9dac-4289-e273-5f73e92da63d"
      },
      "source": [
        "#question 4\n",
        "M=float(input('Enter the amount of water in kilograms : '))\n",
        "intialTemperature=float(input('Enter the initial temperature of water in degree celsius :'))\n",
        "finalTemperature=float(input('Enter the final temperature of water degree celsius :'))\n",
        "Q = M * 4184 * (finalTemperature - intialTemperature)\n",
        "print(f'Energy required to heat the watee = {Q} joules')"
      ],
      "execution_count": null,
      "outputs": [
        {
          "output_type": "stream",
          "text": [
            "Enter the amount of water in kilograms : 20\n",
            "Enter the initial temperature of water in degree celsius :6\n",
            "Enter the final temperature of water degree celsius :8\n",
            "Energy required to heat the watee = 167360.0 joules\n"
          ],
          "name": "stdout"
        }
      ]
    },
    {
      "cell_type": "code",
      "metadata": {
        "id": "-ww4-3Lp2IiZ",
        "colab_type": "code",
        "colab": {
          "base_uri": "https://localhost:8080/",
          "height": 51
        },
        "outputId": "66c46e68-fe65-440e-ddb8-9ca03123f556"
      },
      "source": [
        "#question 5\n",
        "Season=input(\"Enter the season \")\n",
        "if Season==\"Winter\":\n",
        "   print(\"December,January and February\")\n",
        "elif Season==\"Spring\":\n",
        "   print(\"March,April and May\")\n",
        "elif Season==\"Summer\":\n",
        "   print(\"June,July,August\")\n",
        "elif Season==\"Autumn\":\n",
        "   print(\"September,October,November\")\n",
        "else:\n",
        "   print(\"ntg\")"
      ],
      "execution_count": null,
      "outputs": [
        {
          "output_type": "stream",
          "text": [
            "Enter the season Autumn\n",
            "September,October,November\n"
          ],
          "name": "stdout"
        }
      ]
    },
    {
      "cell_type": "code",
      "metadata": {
        "id": "ARlJhulPidTF",
        "colab_type": "code",
        "colab": {
          "base_uri": "https://localhost:8080/",
          "height": 86
        },
        "outputId": "ce99ec01-bdfc-4b1e-e3e6-3edb70c0dab0"
      },
      "source": [
        "#question 6\n",
        "w=float(input(\"Enter the weight in pounds\"))\n",
        "m=0.45359237*w\n",
        "h=float(input(\"Enter the height in inches\"))\n",
        "i=0.0254*h\n",
        "b=(m/(i**2))\n",
        "print (b)\n",
        "if(b<18.5):\n",
        "  print(\"Underweight\")\n",
        "elif(b>=18.5 and b<25.0):\n",
        "  print(\"Normal\")\n",
        "elif(b>=25.0 and b<30.0):\n",
        "  print(\"Overnight\")\n",
        "elif(b>=30.0):\n",
        "  print(\"Obese\")\n",
        "else:\n",
        "  print(\"nothing\")"
      ],
      "execution_count": null,
      "outputs": [
        {
          "output_type": "stream",
          "text": [
            "Enter the weight in pounds10\n",
            "Enter the height in inches14\n",
            "35.870896920365276\n",
            "Obese\n"
          ],
          "name": "stdout"
        }
      ]
    },
    {
      "cell_type": "code",
      "metadata": {
        "id": "u1aoxryUkwBD",
        "colab_type": "code",
        "colab": {
          "base_uri": "https://localhost:8080/",
          "height": 51
        },
        "outputId": "74bdcdac-0d2e-4a16-d72b-b97f0716db87"
      },
      "source": [
        "#question 7\n",
        "i=int(input(\"Enter an integer from 100 to 1000\"))\n",
        "s=0\n",
        "while(i>0):\n",
        "   r=i%10\n",
        "   i=i//10\n",
        "   s=s+r\n",
        "print(\"Sum=\",s)"
      ],
      "execution_count": null,
      "outputs": [
        {
          "output_type": "stream",
          "text": [
            "Enter an integer from 100 to 1000754\n",
            "Sum= 16\n"
          ],
          "name": "stdout"
        }
      ]
    },
    {
      "cell_type": "code",
      "metadata": {
        "id": "iEMTM-chZwUR",
        "colab_type": "code",
        "colab": {
          "base_uri": "https://localhost:8080/",
          "height": 120
        },
        "outputId": "a959c182-45e9-4082-c772-00affafe2f94"
      },
      "source": [
        "#question 8\n",
        "for num in range(0,1000):\n",
        "    temp=num\n",
        "    sum=0\n",
        "    while temp>0:\n",
        "      digit=temp%10\n",
        "      sum=sum+digit**3\n",
        "      temp=temp//10\n",
        "    if sum==num:\n",
        "         print(num)"
      ],
      "execution_count": null,
      "outputs": [
        {
          "output_type": "stream",
          "text": [
            "0\n",
            "1\n",
            "153\n",
            "370\n",
            "371\n",
            "407\n"
          ],
          "name": "stdout"
        }
      ]
    },
    {
      "cell_type": "code",
      "metadata": {
        "id": "hskH-Or_ZzRP",
        "colab_type": "code",
        "colab": {}
      },
      "source": [
        ""
      ],
      "execution_count": null,
      "outputs": []
    },
    {
      "cell_type": "code",
      "metadata": {
        "id": "6uvCFHNapqrS",
        "colab_type": "code",
        "colab": {
          "base_uri": "https://localhost:8080/",
          "height": 88
        },
        "outputId": "f55d6f6d-c788-45c6-f374-e25b12ee4ec4"
      },
      "source": [
        "#question 9\n",
        "max=int(input(\"Enter last digit : \"))\n",
        "print(\"Palindrome Numbers between 1 and %d : \"%max)\n",
        "for num in range(1,max+1):\n",
        "    temp=num\n",
        "    reverse=0\n",
        "    while(temp>0):\n",
        "      reminder=temp%10\n",
        "      reverse=(reverse*10)+reminder\n",
        "      temp=temp//10\n",
        "    if(num==reverse):\n",
        "      print(\"%d \" %num, end=' ')"
      ],
      "execution_count": null,
      "outputs": [
        {
          "output_type": "stream",
          "text": [
            "Enter last digit : 1000\n",
            "Palindrome Numbers between 1 and 1000 : \n",
            "1  2  3  4  5  6  7  8  9  11  22  33  44  55  66  77  88  99  101  111  121  131  141  151  161  171  181  191  202  212  222  232  242  252  262  272  282  292  303  313  323  333  343  353  363  373  383  393  404  414  424  434  444  454  464  474  484  494  505  515  525  535  545  555  565  575  585  595  606  616  626  636  646  656  666  676  686  696  707  717  727  737  747  757  767  777  787  797  808  818  828  838  848  858  868  878  888  898  909  919  929  939  949  959  969  979  989  999  "
          ],
          "name": "stdout"
        }
      ]
    },
    {
      "cell_type": "code",
      "metadata": {
        "id": "2uU7vCJ96JZ6",
        "colab_type": "code",
        "colab": {
          "base_uri": "https://localhost:8080/",
          "height": 1000
        },
        "outputId": "e7e3e078-a5a6-4d26-c2aa-7f4c18a3742c"
      },
      "source": [
        "#question 10\n",
        "for i in range(1,101):\n",
        "   if i%3==0 and i%5==0:\n",
        "     print(\"fizz buzz\")\n",
        "   elif i%3==0:\n",
        "     print(\"Fizz\")\n",
        "   elif i%5==0:\n",
        "     print(\"Buzz\")\n",
        "   else:\n",
        "     print(\"---\")"
      ],
      "execution_count": null,
      "outputs": [
        {
          "output_type": "stream",
          "text": [
            "---\n",
            "---\n",
            "Fizz\n",
            "---\n",
            "Buzz\n",
            "Fizz\n",
            "---\n",
            "---\n",
            "Fizz\n",
            "Buzz\n",
            "---\n",
            "Fizz\n",
            "---\n",
            "---\n",
            "fizz buzz\n",
            "---\n",
            "---\n",
            "Fizz\n",
            "---\n",
            "Buzz\n",
            "Fizz\n",
            "---\n",
            "---\n",
            "Fizz\n",
            "Buzz\n",
            "---\n",
            "Fizz\n",
            "---\n",
            "---\n",
            "fizz buzz\n",
            "---\n",
            "---\n",
            "Fizz\n",
            "---\n",
            "Buzz\n",
            "Fizz\n",
            "---\n",
            "---\n",
            "Fizz\n",
            "Buzz\n",
            "---\n",
            "Fizz\n",
            "---\n",
            "---\n",
            "fizz buzz\n",
            "---\n",
            "---\n",
            "Fizz\n",
            "---\n",
            "Buzz\n",
            "Fizz\n",
            "---\n",
            "---\n",
            "Fizz\n",
            "Buzz\n",
            "---\n",
            "Fizz\n",
            "---\n",
            "---\n",
            "fizz buzz\n",
            "---\n",
            "---\n",
            "Fizz\n",
            "---\n",
            "Buzz\n",
            "Fizz\n",
            "---\n",
            "---\n",
            "Fizz\n",
            "Buzz\n",
            "---\n",
            "Fizz\n",
            "---\n",
            "---\n",
            "fizz buzz\n",
            "---\n",
            "---\n",
            "Fizz\n",
            "---\n",
            "Buzz\n",
            "Fizz\n",
            "---\n",
            "---\n",
            "Fizz\n",
            "Buzz\n",
            "---\n",
            "Fizz\n",
            "---\n",
            "---\n",
            "fizz buzz\n",
            "---\n",
            "---\n",
            "Fizz\n",
            "---\n",
            "Buzz\n",
            "Fizz\n",
            "---\n",
            "---\n",
            "Fizz\n",
            "Buzz\n"
          ],
          "name": "stdout"
        }
      ]
    },
    {
      "cell_type": "code",
      "metadata": {
        "id": "11ZTdMtGFrKb",
        "colab_type": "code",
        "colab": {
          "base_uri": "https://localhost:8080/",
          "height": 86
        },
        "outputId": "29b98367-6fdc-4114-bae1-1ecebfc93e81"
      },
      "source": [
        "#question 11\n",
        "H=int(input(\"Enter height of the well \"))\n",
        "U=int(input(\"Enter the meters which is climbed \"))\n",
        "D=int(input(\"Slips down\"))\n",
        "step=((H-U)+(U-D))//(U-D)\n",
        "print(step+1)"
      ],
      "execution_count": null,
      "outputs": [
        {
          "output_type": "stream",
          "text": [
            "Enter height of the well 200\n",
            "Enter the meters which is climbed 50\n",
            "Slips down1\n",
            "5\n"
          ],
          "name": "stdout"
        }
      ]
    }
  ]
}