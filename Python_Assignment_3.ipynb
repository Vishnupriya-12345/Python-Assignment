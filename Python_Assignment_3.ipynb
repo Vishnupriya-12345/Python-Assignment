{
  "nbformat": 4,
  "nbformat_minor": 0,
  "metadata": {
    "colab": {
      "name": "Python Assignment-3",
      "provenance": [],
      "collapsed_sections": [],
      "authorship_tag": "ABX9TyPmH21NHELZKxpX0D7SVMo3",
      "include_colab_link": true
    },
    "kernelspec": {
      "name": "python3",
      "display_name": "Python 3"
    }
  },
  "cells": [
    {
      "cell_type": "markdown",
      "metadata": {
        "id": "view-in-github",
        "colab_type": "text"
      },
      "source": [
        "<a href=\"https://colab.research.google.com/github/Vishnupriya-12345/Python-Assignment/blob/master/Python_Assignment_3.ipynb\" target=\"_parent\"><img src=\"https://colab.research.google.com/assets/colab-badge.svg\" alt=\"Open In Colab\"/></a>"
      ]
    },
    {
      "cell_type": "code",
      "metadata": {
        "id": "aNNKv14YGm7K",
        "colab_type": "code",
        "colab": {
          "base_uri": "https://localhost:8080/",
          "height": 86
        },
        "outputId": "853a26d9-3169-4759-e387-dc13887956ff"
      },
      "source": [
        " #question 1\n",
        "a=float(input(\"Enter first side value \"))\n",
        "b=float(input(\"Enter second side value \"))\n",
        "c=float(input(\"Enter third side value \"))\n",
        "s=(a+b+c)/2\n",
        "A=(s*(s-a)*(s-b)*(s-c)**0.5)\n",
        "print('Area= ',A)"
      ],
      "execution_count": null,
      "outputs": [
        {
          "output_type": "stream",
          "text": [
            "Enter first side value 2\n",
            "Enter second side value 4\n",
            "Enter third side value 5\n",
            "Area=  20.41770830676156\n"
          ],
          "name": "stdout"
        }
      ]
    },
    {
      "cell_type": "code",
      "metadata": {
        "id": "tfPfjX6AGJgI",
        "colab_type": "code",
        "colab": {
          "base_uri": "https://localhost:8080/",
          "height": 34
        },
        "outputId": "7b631c88-e141-48fd-c66d-6eefee790d61"
      },
      "source": [
        " #question 2\n",
        "my_str='madam'\n",
        "rev_str=reversed(my_str)\n",
        "if list(my_str)==list(rev_str):\n",
        "     print(\"palindrome\")\n",
        "else:\n",
        "     print(\"not a palindrome\")"
      ],
      "execution_count": null,
      "outputs": [
        {
          "output_type": "stream",
          "text": [
            "palindrome\n"
          ],
          "name": "stdout"
        }
      ]
    },
    {
      "cell_type": "code",
      "metadata": {
        "id": "bI4m5yDEHIFo",
        "colab_type": "code",
        "colab": {
          "base_uri": "https://localhost:8080/",
          "height": 51
        },
        "outputId": "565005d1-c8f8-4bb3-856c-c4e8f1f6fbf8"
      },
      "source": [
        " #question 3\n",
        "year=int(input(\"Enter year: \"))\n",
        "if year%4==0:\n",
        "    print(\"leap year\")\n",
        "else:\n",
        "    print(\"not a leap year\")"
      ],
      "execution_count": null,
      "outputs": [
        {
          "output_type": "stream",
          "text": [
            "Enter year: 2000\n",
            "leap year\n"
          ],
          "name": "stdout"
        }
      ]
    },
    {
      "cell_type": "code",
      "metadata": {
        "id": "Gw3Km4e4H6qe",
        "colab_type": "code",
        "colab": {
          "base_uri": "https://localhost:8080/",
          "height": 52
        },
        "outputId": "707fd966-f4f4-45a3-8154-0b5e3d53d851"
      },
      "source": [
        " #question 4\n",
        "sen1=\"This program converts spaces into hypen\"\n",
        "sen2=sen1.replace(' ','-')\n",
        "sen2"
      ],
      "execution_count": null,
      "outputs": [
        {
          "output_type": "execute_result",
          "data": {
            "application/vnd.google.colaboratory.intrinsic": {
              "type": "string"
            },
            "text/plain": [
              "'This-program-converts-spaces-into-hypen'"
            ]
          },
          "metadata": {
            "tags": []
          },
          "execution_count": 17
        }
      ]
    },
    {
      "cell_type": "code",
      "metadata": {
        "id": "cNSj13OCHhEH",
        "colab_type": "code",
        "colab": {
          "base_uri": "https://localhost:8080/",
          "height": 54
        },
        "outputId": "0eba9184-1277-479e-8dc8-127205850ec6"
      },
      "source": [
        "#question 5\n",
        "my_list=\"orange\",\"red\",\"cyan\",\"green\",\"mangeta\",\"pink\",\"white\"\n",
        "my_list=sorted(my_list)\n",
        "print(my_list)"
      ],
      "execution_count": null,
      "outputs": [
        {
          "output_type": "stream",
          "text": [
            "['cyan', 'green', 'mangeta', 'orange', 'pink', 'red', 'white']\n"
          ],
          "name": "stdout"
        }
      ]
    },
    {
      "cell_type": "code",
      "metadata": {
        "id": "YVO7fYe5VC3r",
        "colab_type": "code",
        "colab": {
          "base_uri": "https://localhost:8080/",
          "height": 51
        },
        "outputId": "1ef2b074-da3c-444b-c266-ca13e75c9ab8"
      },
      "source": [
        "#question 6\n",
        "salary = int(input(\"Enter total salary\"))\n",
        "if salary <= 250000 :\n",
        "   print(\"no tax\")\n",
        "elif 250001 <= salary<=500000 :\n",
        "   print(\"tax = \",salary*.05)\n",
        "elif 500001 <= salary <=750000 :\n",
        "   print(\"tax = \",salary*.10)\n",
        "elif 750001 <= salary <=1000000 :\n",
        "   print(\"tax = \",salary*.15)\n",
        "elif 1000001 <= salaryb<=1250000 :\n",
        "   print(\"tax = \", salary*.20)\n",
        "elif 1250001 <= salary <=1500000 :\n",
        "   print(\"tax= \",salary*.25)\n",
        "else :\n",
        "   print(\"tax= \",salary*.30)"
      ],
      "execution_count": null,
      "outputs": [
        {
          "output_type": "stream",
          "text": [
            "Enter total salary500000\n",
            "tax =  25000.0\n"
          ],
          "name": "stdout"
        }
      ]
    },
    {
      "cell_type": "code",
      "metadata": {
        "id": "oN3FiBLN1Rl9",
        "colab_type": "code",
        "colab": {
          "base_uri": "https://localhost:8080/",
          "height": 86
        },
        "outputId": "e402275a-2051-411a-c3e6-6ab80b28ffdf"
      },
      "source": [
        "#question 7\n",
        "l=(input(\"Enter first integer \"))\n",
        "m=(input(\"Enter second integer \"))\n",
        "n=(input(\"Enter third integer \"))\n",
        "print(l+m+n)"
      ],
      "execution_count": null,
      "outputs": [
        {
          "output_type": "stream",
          "text": [
            "Enter first integer 11\n",
            "Enter second integer 33\n",
            "Enter third integer 55\n",
            "113355\n"
          ],
          "name": "stdout"
        }
      ]
    },
    {
      "cell_type": "code",
      "metadata": {
        "id": "N05JCThMINJa",
        "colab_type": "code",
        "colab": {
          "base_uri": "https://localhost:8080/",
          "height": 103
        },
        "outputId": "4dee4991-1405-4b01-aad1-4a294a726fab"
      },
      "source": [
        " #question 8\n",
        "D=int(input(\"Enter days\"))\n",
        "H=int(input(\"Enter hours\"))\n",
        "M=int(input(\"Enter minutes\"))\n",
        "S=int(input(\"Enter seconds\"))\n",
        "V=D*24*60*60+H*60*60+M*60+S\n",
        "print(\"Total seconds\",V)"
      ],
      "execution_count": null,
      "outputs": [
        {
          "output_type": "stream",
          "text": [
            "Enter days2\n",
            "Enter hours1\n",
            "Enter minutes2\n",
            "Enter seconds0\n",
            "Total seconds 176520\n"
          ],
          "name": "stdout"
        }
      ]
    },
    {
      "cell_type": "code",
      "metadata": {
        "id": "o5Z3xoTHxDWi",
        "colab_type": "code",
        "colab": {
          "base_uri": "https://localhost:8080/",
          "height": 86
        },
        "outputId": "2a546389-4bf0-4e9d-b153-55749f7d2518"
      },
      "source": [
        "#question 9\n",
        "l=int(input(\"Enter first integer \"))\n",
        "m=int(input(\"Enter second integer \"))\n",
        "n=int(input(\"Enter third integer \"))\n",
        "p=max(l,m,n)\n",
        "q=min(l,m,n)\n",
        "v=l+m+n-p-q\n",
        "print(p,q,v)"
      ],
      "execution_count": null,
      "outputs": [
        {
          "output_type": "stream",
          "text": [
            "Enter first integer 2 \n",
            "Enter second integer 6\n",
            "Enter third integer 1\n",
            "6 1 2\n"
          ],
          "name": "stdout"
        }
      ]
    },
    {
      "cell_type": "code",
      "metadata": {
        "id": "Jx4PM7Bv12NW",
        "colab_type": "code",
        "colab": {
          "base_uri": "https://localhost:8080/",
          "height": 106
        },
        "outputId": "338f1bef-1db5-4027-8081-8ca68106da0a"
      },
      "source": [
        "#question 10\n",
        "Y=int(input(\"Enter year: \"))\n",
        "M=int(input(\"Enter month: \"))\n",
        "D=int(input(\"Enter date: \"))\n",
        "if Y%4==0:\n",
        "    leapY=True\n",
        "else:\n",
        "    leapY=False\n",
        "if M==2:\n",
        "   if leapY:\n",
        "       M_length=29\n",
        "   else:\n",
        "       M_len=28\n",
        "elif M in(4,6,9,11):\n",
        "       M_length=30\n",
        "else: \n",
        "       M_length=31\n",
        "if D<M_length:\n",
        "   D=D+1\n",
        "else:\n",
        "   D=1\n",
        "   Y+=1\n",
        "print(f\"successor date is [YYYY-MM-DD] : {Y}-{M}-{D}\")"
      ],
      "execution_count": null,
      "outputs": [
        {
          "output_type": "stream",
          "text": [
            "Enter year: 2020\n",
            "Enter month: 04\n",
            "Enter date: 15\n",
            "successor date is [YYYY-MM-DD] : 2020-4-16\n"
          ],
          "name": "stdout"
        }
      ]
    },
    {
      "cell_type": "code",
      "metadata": {
        "id": "NqSdr9vyIe1i",
        "colab_type": "code",
        "colab": {
          "base_uri": "https://localhost:8080/",
          "height": 34
        },
        "outputId": "2fdc69fc-5e2b-41d0-8608-fbe8a84cd6f4"
      },
      "source": [
        " #question 11\n",
        "def product_num(x1,x2,x3,x4,x5,x6,x7,x8):\n",
        "    return x1*x2*x3*x4*x5*x6*x7*x8\n",
        "product_num(45,3,2,89,72,1,10,7)"
      ],
      "execution_count": null,
      "outputs": [
        {
          "output_type": "execute_result",
          "data": {
            "text/plain": [
              "121111200"
            ]
          },
          "metadata": {
            "tags": []
          },
          "execution_count": 19
        }
      ]
    },
    {
      "cell_type": "code",
      "metadata": {
        "id": "akMfRwn7IrOM",
        "colab_type": "code",
        "colab": {
          "base_uri": "https://localhost:8080/",
          "height": 34
        },
        "outputId": "cb98f137-6ef8-4602-ee1a-011cd87091ae"
      },
      "source": [
        " #question 12\n",
        "def Num_list(x1,x2,x3,x4,x5,x6):\n",
        "     return x1+x2,x2+x3,x3+x4,x4+x5,x5+x6\n",
        "Num_list(5,6,8,34,89,1)"
      ],
      "execution_count": null,
      "outputs": [
        {
          "output_type": "execute_result",
          "data": {
            "text/plain": [
              "(11, 14, 42, 123, 90)"
            ]
          },
          "metadata": {
            "tags": []
          },
          "execution_count": 20
        }
      ]
    },
    {
      "cell_type": "code",
      "metadata": {
        "id": "AYY0bfh8I8zh",
        "colab_type": "code",
        "colab": {
          "base_uri": "https://localhost:8080/",
          "height": 34
        },
        "outputId": "1615d76e-2723-4196-f3af-643aae16b381"
      },
      "source": [
        " #question 13\n",
        "def Num_tuple(x1,x2,x3,x4,x5,x6):\n",
        "     return x1,x1*x2,x1*x2*x3,x1*x2*x3*x4,x1*x2*x3*x4*x5,x1*x2*x3*x4*x5*x6\n",
        "Num_tuple(5,6,8,3,9,1)"
      ],
      "execution_count": null,
      "outputs": [
        {
          "output_type": "execute_result",
          "data": {
            "text/plain": [
              "(5, 30, 240, 720, 6480, 6480)"
            ]
          },
          "metadata": {
            "tags": []
          },
          "execution_count": 21
        }
      ]
    },
    {
      "cell_type": "code",
      "metadata": {
        "id": "KBnE1vL17SCi",
        "colab_type": "code",
        "colab": {
          "base_uri": "https://localhost:8080/",
          "height": 51
        },
        "outputId": "0741eda4-d5ea-4dc4-eafc-0ae488f2e199"
      },
      "source": [
        "#question 14\n",
        "a=int(input(\"Enter the number \"))\n",
        "newlist=[]\n",
        "b=0\n",
        "while a>0 :\n",
        "    x=a%10\n",
        "    a=a//10\n",
        "    b=b*10+x\n",
        "while b>0 :\n",
        "    x=b%10\n",
        "    b=b//10\n",
        "    newlist.append(x)\n",
        "print(newlist)"
      ],
      "execution_count": null,
      "outputs": [
        {
          "output_type": "stream",
          "text": [
            "Enter the number 586392\n",
            "[5, 8, 6, 3, 9, 2]\n"
          ],
          "name": "stdout"
        }
      ]
    },
    {
      "cell_type": "code",
      "metadata": {
        "id": "2GuSlsRoxNxJ",
        "colab_type": "code",
        "colab": {
          "base_uri": "https://localhost:8080/",
          "height": 51
        },
        "outputId": "07171257-dfc9-4832-a266-be5676ae488d"
      },
      "source": [
        "#question 15\n",
        "q=input(\"Enter a palindrome \")\n",
        "list1=[]\n",
        "list2=[]\n",
        "index=0\n",
        "for i in range(0,len(q)-1):\n",
        "   for j in range(i+1,len(q)+1):\n",
        "       if j-i>1:\n",
        "          p=q[i:j]\n",
        "          if (p==p[::-1]):\n",
        "             list1.append(q[i:j])\n",
        "             list2.append(len(q[i:j]))\n",
        "maximum=max(list2)\n",
        "for i in list2:\n",
        "    if i==maximum:\n",
        "       print(list1[index])\n",
        "    else:\n",
        "       index=index+1"
      ],
      "execution_count": null,
      "outputs": [
        {
          "output_type": "stream",
          "text": [
            "Enter a palindrome malayalam\n",
            "malayalam\n"
          ],
          "name": "stdout"
        }
      ]
    },
    {
      "cell_type": "code",
      "metadata": {
        "id": "s3O_8QvXGg4m",
        "colab_type": "code",
        "colab": {
          "base_uri": "https://localhost:8080/",
          "height": 88
        },
        "outputId": "783178a7-6fed-4e35-94dc-01d27303c7f0"
      },
      "source": [
        "#question 16\n",
        "p=input(\"Enter the binary number of length 10 \")\n",
        "q=input(\"Enter the binary number of length 5 \")\n",
        "if q[:] in p[:] :\n",
        "    print (1)\n",
        "else:\n",
        "    print (0)"
      ],
      "execution_count": null,
      "outputs": [
        {
          "output_type": "stream",
          "text": [
            "Enter the binary number of length 10 1234567890\n",
            "Enter the binary number of length 5 9\n",
            "1\n"
          ],
          "name": "stdout"
        }
      ]
    }
  ]
}